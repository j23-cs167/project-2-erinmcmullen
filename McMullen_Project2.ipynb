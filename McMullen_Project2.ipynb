{
  "cells": [
    {
      "cell_type": "markdown",
      "metadata": {
        "id": "view-in-github",
        "colab_type": "text"
      },
      "source": [
        "<a href=\"https://colab.research.google.com/github/j23-cs167/project-2-erinmcmullen/blob/main/McMullen_Project2.ipynb\" target=\"_parent\"><img src=\"https://colab.research.google.com/assets/colab-badge.svg\" alt=\"Open In Colab\"/></a>"
      ]
    },
    {
      "cell_type": "markdown",
      "metadata": {
        "id": "fwz6eKTO3nph"
      },
      "source": [
        "#Points Attempted\n",
        "#####1: Problem: 2/2 \n",
        "#####2: Data Prep: 2/2 \n",
        "#####3: Research: 9/10\n",
        "#####4: Analysis: 10/10\n",
        "#####5: Bumps in the Road: 1/1\n",
        "#####Total: 24/25"
      ]
    },
    {
      "cell_type": "markdown",
      "metadata": {
        "id": "rIepkBIuT_Pl"
      },
      "source": [
        "# Project #2\n",
        "##Name: Erin McMullen\n",
        "\n",
        "Proposed Points (out of 25):"
      ]
    },
    {
      "cell_type": "markdown",
      "metadata": {
        "id": "HbwKLNhzP8YO"
      },
      "source": [
        "# 1. Problem\n",
        "State the problem you are trying to solve with this machine learning experiment. Include a description of the data, where you got the data, and what you're trying to predict.."
      ]
    },
    {
      "cell_type": "markdown",
      "metadata": {
        "id": "LwseoUsMmCz2"
      },
      "source": [
        "**The data I am using consists of pictures of flowers. There are 5 different types of flowers including daisies, dandelions, roses, sunflowers, and tuplips. I got the data from kaggle and I am trying to create this machine learning experiment to predict what type of flower it is out of the 5 listed above.**"
      ]
    },
    {
      "cell_type": "markdown",
      "metadata": {
        "id": "qR_foVOeQVL7"
      },
      "source": [
        "# 2. Data Preparation\n",
        "Explain your data preparation. What did you have to do to get your data in shape for your experiments? Why are you certain that you data is clean and prepared for use in your algorithms?"
      ]
    },
    {
      "cell_type": "markdown",
      "metadata": {
        "id": "aMDJDnW_mOWu"
      },
      "source": [
        "**My data was already somewhat organized when I downloaded it and was separated into train data and test data. The train data was sorted into the 5 classes, but the test data was not, so I went through and sorted the test data into 5 classes. So, I didn't have to do much to prepare my data except sort enough of the test data into classes, upload it to my drive, and load it into colab. I am certain my data is clean and prepared for use because it is just images so I don't have to worry about missing data and they are all classified into one of the 5 classes.**"
      ]
    },
    {
      "cell_type": "code",
      "execution_count": 17,
      "metadata": {
        "colab": {
          "base_uri": "https://localhost:8080/"
        },
        "id": "9dUdBChRmKxR",
        "outputId": "ed7aa1ec-7638-41a3-b036-c6836b10c284"
      },
      "outputs": [
        {
          "output_type": "stream",
          "name": "stdout",
          "text": [
            "Drive already mounted at /content/drive; to attempt to forcibly remount, call drive.mount(\"/content/drive\", force_remount=True).\n"
          ]
        }
      ],
      "source": [
        "# load and prepare your data here\n",
        "from google.colab import drive\n",
        "import pandas\n",
        "drive.mount('/content/drive')"
      ]
    },
    {
      "cell_type": "code",
      "execution_count": 2,
      "metadata": {
        "colab": {
          "base_uri": "https://localhost:8080/"
        },
        "id": "LF7CyhbcpyTy",
        "outputId": "1029afd1-9a3a-41e6-b041-d9be124ff9de"
      },
      "outputs": [
        {
          "output_type": "stream",
          "name": "stdout",
          "text": [
            "Colab only includes TensorFlow 2.x; %tensorflow_version has no effect.\n",
            "Found GPU at: /device:GPU:0\n"
          ]
        }
      ],
      "source": [
        "%tensorflow_version 2.x\n",
        "import tensorflow as tf\n",
        "device_name = tf.test.gpu_device_name()\n",
        "if device_name != '/device:GPU:0':\n",
        "  raise SystemError('GPU device not found')\n",
        "print('Found GPU at: {}'.format(device_name))"
      ]
    },
    {
      "cell_type": "code",
      "execution_count": 3,
      "metadata": {
        "colab": {
          "base_uri": "https://localhost:8080/"
        },
        "id": "9qXZynGSpy6B",
        "outputId": "ca0a7ddb-cf5e-47ac-af19-c62142812206"
      },
      "outputs": [
        {
          "output_type": "stream",
          "name": "stdout",
          "text": [
            "TensorFlow version: 2.9.2\n",
            "Keras version: 2.9.0\n"
          ]
        }
      ],
      "source": [
        "import keras\n",
        "import tensorflow \n",
        "print (\"TensorFlow version: \" + tensorflow.__version__)\n",
        "print (\"Keras version: \" + keras.__version__)"
      ]
    },
    {
      "cell_type": "code",
      "execution_count": 4,
      "metadata": {
        "id": "tmOMq3gzp3ea"
      },
      "outputs": [],
      "source": [
        "#ignore warnings\n",
        "import warnings\n",
        "warnings.filterwarnings('ignore')"
      ]
    },
    {
      "cell_type": "code",
      "execution_count": 5,
      "metadata": {
        "id": "zPiyaJKjp6S0"
      },
      "outputs": [],
      "source": [
        "import keras\n",
        "import sys\n",
        "from matplotlib import pyplot\n",
        "from keras.utils import to_categorical\n",
        "from keras.models import Sequential\n",
        "from keras.layers import Conv2D\n",
        "from keras.layers import MaxPooling2D\n",
        "from keras.layers import Dense\n",
        "from keras.layers import Flatten\n",
        "from keras.optimizers import SGD\n",
        "from keras.preprocessing.image import ImageDataGenerator\n",
        "import sys"
      ]
    },
    {
      "cell_type": "code",
      "execution_count": 6,
      "metadata": {
        "id": "97csjF2Q9MNa"
      },
      "outputs": [],
      "source": [
        "# dimensions of our images.\n",
        "img_width = 200\n",
        "img_height = 200\n",
        "\n",
        "#the directories where our train and test data is\n",
        "train_data_dir = '/content/drive/MyDrive/Datasets/Flower_Dataset/train'\n",
        "test_data_dir = '/content/drive/MyDrive/Datasets/Flower_Dataset/test'  \n",
        "\n",
        "batch_size = 32"
      ]
    },
    {
      "cell_type": "markdown",
      "metadata": {
        "id": "Hc7HMmNPR10W"
      },
      "source": [
        "# 3. Research\n",
        "\n",
        "Put your code and your experiments here."
      ]
    },
    {
      "cell_type": "code",
      "execution_count": 7,
      "metadata": {
        "id": "XfaACsEOR4U5"
      },
      "outputs": [],
      "source": [
        "# code goes here... don't forget to include graphs. Professor Urness loves graphs."
      ]
    },
    {
      "cell_type": "code",
      "execution_count": 8,
      "metadata": {
        "colab": {
          "base_uri": "https://localhost:8080/"
        },
        "id": "HjiWE0NPqEFv",
        "outputId": "d8643aa8-5f95-4bf1-c151-e1dd660330e5"
      },
      "outputs": [
        {
          "output_type": "stream",
          "name": "stdout",
          "text": [
            "Found 2746 images belonging to 5 classes.\n",
            "Found 113 images belonging to 5 classes.\n"
          ]
        }
      ],
      "source": [
        "datagen = ImageDataGenerator(rescale=1.0/300.0)\n",
        "\n",
        "train_data = datagen.flow_from_directory(\n",
        "        train_data_dir,\n",
        "        target_size=(img_width, img_height),\n",
        "        batch_size=batch_size,\n",
        "        class_mode='binary')\n",
        "\n",
        "test_data = datagen.flow_from_directory(\n",
        "        test_data_dir,\n",
        "        target_size=(img_width, img_height),\n",
        "        batch_size=batch_size,\n",
        "        class_mode='binary')"
      ]
    },
    {
      "cell_type": "code",
      "execution_count": 9,
      "metadata": {
        "id": "eJSh06bSqHUJ"
      },
      "outputs": [],
      "source": [
        "#Model 1\n",
        "model = Sequential()\n",
        "model.add(Conv2D(32, (3, 3), activation = 'relu', input_shape=(img_width, img_height, 3)))\n",
        "model.add(Conv2D(32, (3, 3), activation = 'relu'))\n",
        "model.add(Conv2D(32, (3, 3), activation = 'relu'))\n",
        "model.add(Flatten()) #flatten the convolutional layer so it can go into a fully-connected layer\n",
        "model.add(Dense(32)) #fully-connected layer\n",
        "model.add(Dense(1,activation='sigmoid'))\n",
        "\n",
        "# Compile Model\n",
        "opt = SGD(lr=0.001, momentum=0.9)\n",
        "model.compile(optimizer=opt, loss='binary_crossentropy', metrics=['accuracy'])"
      ]
    },
    {
      "cell_type": "code",
      "execution_count": 10,
      "metadata": {
        "colab": {
          "base_uri": "https://localhost:8080/"
        },
        "id": "GeBajPLnqTwr",
        "outputId": "ab027f9a-428b-41ab-d201-e4022c300ddc"
      },
      "outputs": [
        {
          "output_type": "stream",
          "name": "stdout",
          "text": [
            "Epoch 1/5\n",
            "86/86 [==============================] - 763s 9s/step - loss: nan - accuracy: 0.1897 - val_loss: nan - val_accuracy: 0.2035\n",
            "Epoch 2/5\n",
            "86/86 [==============================] - 14s 160ms/step - loss: nan - accuracy: 0.1824 - val_loss: nan - val_accuracy: 0.2035\n",
            "Epoch 3/5\n",
            "86/86 [==============================] - 14s 158ms/step - loss: nan - accuracy: 0.1824 - val_loss: nan - val_accuracy: 0.2035\n",
            "Epoch 4/5\n",
            "86/86 [==============================] - 15s 175ms/step - loss: nan - accuracy: 0.1824 - val_loss: nan - val_accuracy: 0.2035\n",
            "Epoch 5/5\n",
            "86/86 [==============================] - 15s 179ms/step - loss: nan - accuracy: 0.1824 - val_loss: nan - val_accuracy: 0.2035\n"
          ]
        }
      ],
      "source": [
        "#Train the Model\n",
        "training_results = model.fit_generator(\n",
        "        train_data, #training set\n",
        "        steps_per_epoch = len(train_data), \n",
        "        epochs=5, #number of epochs \n",
        "        validation_data = test_data, #testing set\n",
        "        validation_steps = len(test_data)\n",
        "        )"
      ]
    },
    {
      "cell_type": "code",
      "execution_count": 11,
      "metadata": {
        "colab": {
          "base_uri": "https://localhost:8080/",
          "height": 295
        },
        "id": "xJWSkXYOqW_u",
        "outputId": "db129bb1-5d96-4893-a5c8-ef02bfa9de6b"
      },
      "outputs": [
        {
          "output_type": "display_data",
          "data": {
            "text/plain": [
              "<Figure size 432x288 with 1 Axes>"
            ],
            "image/png": "[encoded data removed]"
          },
          "metadata": {
            "needs_background": "light"
          }
        }
      ],
      "source": [
        "# Graph of Model 1 train vs test \n",
        "import matplotlib.pyplot as plt\n",
        "%matplotlib inline\n",
        "plt.plot(training_results.history['accuracy'])\n",
        "plt.plot(training_results.history['val_accuracy'])\n",
        "plt.title('model accuracy')\n",
        "plt.ylabel('accuracy')\n",
        "plt.xlabel('epoch')\n",
        "plt.legend(['train', 'test'], loc='upper left')\n",
        "plt.show()"
      ]
    },
    {
      "cell_type": "code",
      "execution_count": 12,
      "metadata": {
        "id": "HO9mQbb0xSpC"
      },
      "outputs": [],
      "source": [
        "#Model 2\n",
        "model2 = Sequential()\n",
        "model2.add(Conv2D(32, (4, 4), activation = 'relu'))\n",
        "model2.add(MaxPooling2D(pool_size=(2, 2)))\n",
        "\n",
        "model2.add(Conv2D(32, (3, 3),activation = 'relu'))\n",
        "model2.add(MaxPooling2D(pool_size=(2, 2)))\n",
        "\n",
        "model2.add(Conv2D(64, (3, 3),activation = 'relu'))\n",
        "model2.add(MaxPooling2D(pool_size=(2, 2)))\n",
        "\n",
        "model2.add(Conv2D(64, (3, 3),activation = 'relu'))\n",
        "model2.add(MaxPooling2D(pool_size=(2, 2)))\n",
        "\n",
        "model2.add(Conv2D(64, (3, 3),activation = 'relu'))\n",
        "model2.add(MaxPooling2D(pool_size=(2, 2)))\n",
        "\n",
        "model2.add(Conv2D(64, (3, 3),activation = 'relu'))\n",
        "model2.add(MaxPooling2D(pool_size=(2, 2)))\n",
        "\n",
        "model2.add(Flatten())\n",
        "model2.add(Dense(64,activation = 'relu'))\n",
        "model2.add(Dense(1,activation='sigmoid'))\n",
        "\n",
        "\n",
        "# Compile Model\n",
        "opt = SGD(lr=0.001, momentum=0.9)\n",
        "model2.compile(optimizer=opt, loss='binary_crossentropy', metrics=['accuracy'])"
      ]
    },
    {
      "cell_type": "code",
      "execution_count": 15,
      "metadata": {
        "colab": {
          "base_uri": "https://localhost:8080/"
        },
        "id": "Mj3aDkYvxU9m",
        "outputId": "2511eb04-ad68-4404-d899-024e0cc05fc3"
      },
      "outputs": [
        {
          "output_type": "stream",
          "name": "stdout",
          "text": [
            "Epoch 1/20\n",
            "86/86 [==============================] - 13s 153ms/step - loss: nan - accuracy: 0.1824 - val_loss: nan - val_accuracy: 0.2035\n",
            "Epoch 2/20\n",
            "86/86 [==============================] - 13s 150ms/step - loss: nan - accuracy: 0.1824 - val_loss: nan - val_accuracy: 0.2035\n",
            "Epoch 3/20\n",
            "86/86 [==============================] - 13s 151ms/step - loss: nan - accuracy: 0.1824 - val_loss: nan - val_accuracy: 0.2035\n",
            "Epoch 4/20\n",
            "86/86 [==============================] - 13s 151ms/step - loss: nan - accuracy: 0.1824 - val_loss: nan - val_accuracy: 0.2035\n",
            "Epoch 5/20\n",
            "86/86 [==============================] - 13s 151ms/step - loss: nan - accuracy: 0.1824 - val_loss: nan - val_accuracy: 0.2035\n",
            "Epoch 6/20\n",
            "86/86 [==============================] - 13s 150ms/step - loss: nan - accuracy: 0.1824 - val_loss: nan - val_accuracy: 0.2035\n",
            "Epoch 7/20\n",
            "86/86 [==============================] - 13s 149ms/step - loss: nan - accuracy: 0.1824 - val_loss: nan - val_accuracy: 0.2035\n",
            "Epoch 8/20\n",
            "86/86 [==============================] - 13s 149ms/step - loss: nan - accuracy: 0.1824 - val_loss: nan - val_accuracy: 0.2035\n",
            "Epoch 9/20\n",
            "86/86 [==============================] - 13s 149ms/step - loss: nan - accuracy: 0.1824 - val_loss: nan - val_accuracy: 0.2035\n",
            "Epoch 10/20\n",
            "86/86 [==============================] - 21s 244ms/step - loss: nan - accuracy: 0.1824 - val_loss: nan - val_accuracy: 0.2035\n",
            "Epoch 11/20\n",
            "86/86 [==============================] - 14s 166ms/step - loss: nan - accuracy: 0.1824 - val_loss: nan - val_accuracy: 0.2035\n",
            "Epoch 12/20\n",
            "86/86 [==============================] - 13s 151ms/step - loss: nan - accuracy: 0.1824 - val_loss: nan - val_accuracy: 0.2035\n",
            "Epoch 13/20\n",
            "86/86 [==============================] - 13s 150ms/step - loss: nan - accuracy: 0.1824 - val_loss: nan - val_accuracy: 0.2035\n",
            "Epoch 14/20\n",
            "86/86 [==============================] - 13s 151ms/step - loss: nan - accuracy: 0.1824 - val_loss: nan - val_accuracy: 0.2035\n",
            "Epoch 15/20\n",
            "86/86 [==============================] - 13s 151ms/step - loss: nan - accuracy: 0.1824 - val_loss: nan - val_accuracy: 0.2035\n",
            "Epoch 16/20\n",
            "86/86 [==============================] - 14s 157ms/step - loss: nan - accuracy: 0.1824 - val_loss: nan - val_accuracy: 0.2035\n",
            "Epoch 17/20\n",
            "86/86 [==============================] - 14s 162ms/step - loss: nan - accuracy: 0.1824 - val_loss: nan - val_accuracy: 0.2035\n",
            "Epoch 18/20\n",
            "86/86 [==============================] - 13s 156ms/step - loss: nan - accuracy: 0.1824 - val_loss: nan - val_accuracy: 0.2035\n",
            "Epoch 19/20\n",
            "86/86 [==============================] - 13s 148ms/step - loss: nan - accuracy: 0.1824 - val_loss: nan - val_accuracy: 0.2035\n",
            "Epoch 20/20\n",
            "86/86 [==============================] - 13s 149ms/step - loss: nan - accuracy: 0.1824 - val_loss: nan - val_accuracy: 0.2035\n"
          ]
        }
      ],
      "source": [
        "#Train Model 2\n",
        "training_results2 = model2.fit_generator(\n",
        "        train_data, #training set\n",
        "        steps_per_epoch = len(train_data), \n",
        "        epochs=20, #number of epochs \n",
        "        validation_data = test_data, #testing set\n",
        "        validation_steps = len(test_data)\n",
        "        )"
      ]
    },
    {
      "cell_type": "code",
      "execution_count": 14,
      "metadata": {
        "id": "rhsLgEaBzTio",
        "colab": {
          "base_uri": "https://localhost:8080/",
          "height": 295
        },
        "outputId": "ec1bd43e-6344-4254-e315-f07084ee7ca5"
      },
      "outputs": [
        {
          "output_type": "display_data",
          "data": {
            "text/plain": [
              "<Figure size 432x288 with 1 Axes>"
            ],
            "image/png": "[encoded data removed]"
          },
          "metadata": {
            "needs_background": "light"
          }
        }
      ],
      "source": [
        "import matplotlib.pyplot as plt\n",
        "%matplotlib inline\n",
        "plt.plot(training_results2.history['accuracy'])\n",
        "plt.plot(training_results2.history['val_accuracy'])\n",
        "plt.title('model accuracy')\n",
        "plt.ylabel('accuracy')\n",
        "plt.xlabel('epoch')\n",
        "plt.legend(['train', 'test'], loc='upper left')\n",
        "plt.show()"
      ]
    },
    {
      "cell_type": "markdown",
      "metadata": {
        "id": "2Qu9bYPLmiv_"
      },
      "source": [
        "#4. Analysis\n",
        "\n",
        "What did you discover? What insights/recommendations do you have? What did you find that was interesting? Which model was your best model, which models didn't work well? Why do you think this is? In general, I want a discussion of your experiment, the results, and what they mean."
      ]
    },
    {
      "cell_type": "markdown",
      "metadata": {
        "id": "k17sKBZUmqIH"
      },
      "source": [
        "**What I discoverd in my project was that the model couldnt train very well, since it wasn't very accurate. It ended up with an accuracy of .2035. My first and second model were the same even with the changes I made to the second model. Neither of my models worked the best, so I think it had more to do with my data than my model. I think I got these results because these 5 types of flowers can look similar in some instances, so I think it got them mixed up which messed up the accuracy.**"
      ]
    },
    {
      "cell_type": "markdown",
      "metadata": {
        "id": "TemAuKxlm6dQ"
      },
      "source": [
        "# 5. Bumps in the Road\n",
        "What challenges did you encounter? How did you overcome these challenges?"
      ]
    },
    {
      "cell_type": "markdown",
      "metadata": {
        "id": "zXEVEG9FnHgQ"
      },
      "source": [
        "**The first bump in the road I hit was with my data because I thought it would be a good dataset to download and i downloaded it and uploaded it, but the test data wasn't organized into the 5 classes like the train data was. So, I had to take the time and split up the data into the 5 classes which was a little time consuming. While doing the research part of this project I was trying to create a model with a high accuracy, but it seemed that with anything i changed the accuracy just stayed the same or got lower. I think overall the data just wasn't the best and it was also probably hard to determine between 5 classes. If I had to change it for next time I would probably consider only using 2 classes and hopefully it would be more accurate.**"
      ]
    }
  ],
  "metadata": {
    "accelerator": "GPU",
    "colab": {
      "provenance": [],
      "include_colab_link": true
    },
    "gpuClass": "standard",
    "kernelspec": {
      "display_name": "Python 3",
      "name": "python3"
    },
    "language_info": {
      "name": "python"
    }
  },
  "nbformat": 4,
  "nbformat_minor": 0
}